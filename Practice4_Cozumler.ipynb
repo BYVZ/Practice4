{
 "cells": [
  {
   "cell_type": "markdown",
   "metadata": {
    "toc-hr-collapsed": false
   },
   "source": [
    "# Pandas ile veri manipulasyonu"
   ]
  },
  {
   "cell_type": "markdown",
   "metadata": {
    "toc-hr-collapsed": false
   },
   "source": [
    "## Pandas giris:  Dataframelerde temel manipulasyonlar: siralama, secme/filtreleme ve yeni kolon ekleme"
   ]
  },
  {
   "cell_type": "code",
   "execution_count": 1,
   "metadata": {},
   "outputs": [
    {
     "data": {
      "text/html": [
       "<div>\n",
       "<style scoped>\n",
       "    .dataframe tbody tr th:only-of-type {\n",
       "        vertical-align: middle;\n",
       "    }\n",
       "\n",
       "    .dataframe tbody tr th {\n",
       "        vertical-align: top;\n",
       "    }\n",
       "\n",
       "    .dataframe thead th {\n",
       "        text-align: right;\n",
       "    }\n",
       "</style>\n",
       "<table border=\"1\" class=\"dataframe\">\n",
       "  <thead>\n",
       "    <tr style=\"text-align: right;\">\n",
       "      <th></th>\n",
       "      <th>store</th>\n",
       "      <th>type</th>\n",
       "      <th>department</th>\n",
       "      <th>date</th>\n",
       "      <th>weekly_sales</th>\n",
       "      <th>is_holiday</th>\n",
       "      <th>temperature_c</th>\n",
       "      <th>fuel_price_usd_per_l</th>\n",
       "      <th>unemployment</th>\n",
       "    </tr>\n",
       "  </thead>\n",
       "  <tbody>\n",
       "    <tr>\n",
       "      <td>0</td>\n",
       "      <td>1</td>\n",
       "      <td>A</td>\n",
       "      <td>1</td>\n",
       "      <td>2010-02-05</td>\n",
       "      <td>24924.50</td>\n",
       "      <td>False</td>\n",
       "      <td>5.727778</td>\n",
       "      <td>0.679451</td>\n",
       "      <td>8.106</td>\n",
       "    </tr>\n",
       "    <tr>\n",
       "      <td>1</td>\n",
       "      <td>1</td>\n",
       "      <td>A</td>\n",
       "      <td>2</td>\n",
       "      <td>2010-02-05</td>\n",
       "      <td>50605.27</td>\n",
       "      <td>False</td>\n",
       "      <td>5.727778</td>\n",
       "      <td>0.679451</td>\n",
       "      <td>8.106</td>\n",
       "    </tr>\n",
       "    <tr>\n",
       "      <td>2</td>\n",
       "      <td>1</td>\n",
       "      <td>A</td>\n",
       "      <td>3</td>\n",
       "      <td>2010-02-05</td>\n",
       "      <td>13740.12</td>\n",
       "      <td>False</td>\n",
       "      <td>5.727778</td>\n",
       "      <td>0.679451</td>\n",
       "      <td>8.106</td>\n",
       "    </tr>\n",
       "    <tr>\n",
       "      <td>3</td>\n",
       "      <td>1</td>\n",
       "      <td>A</td>\n",
       "      <td>4</td>\n",
       "      <td>2010-02-05</td>\n",
       "      <td>39954.04</td>\n",
       "      <td>False</td>\n",
       "      <td>5.727778</td>\n",
       "      <td>0.679451</td>\n",
       "      <td>8.106</td>\n",
       "    </tr>\n",
       "    <tr>\n",
       "      <td>4</td>\n",
       "      <td>1</td>\n",
       "      <td>A</td>\n",
       "      <td>5</td>\n",
       "      <td>2010-02-05</td>\n",
       "      <td>32229.38</td>\n",
       "      <td>False</td>\n",
       "      <td>5.727778</td>\n",
       "      <td>0.679451</td>\n",
       "      <td>8.106</td>\n",
       "    </tr>\n",
       "  </tbody>\n",
       "</table>\n",
       "</div>"
      ],
      "text/plain": [
       "   store type  department       date  weekly_sales  is_holiday  temperature_c  \\\n",
       "0      1    A           1 2010-02-05      24924.50       False       5.727778   \n",
       "1      1    A           2 2010-02-05      50605.27       False       5.727778   \n",
       "2      1    A           3 2010-02-05      13740.12       False       5.727778   \n",
       "3      1    A           4 2010-02-05      39954.04       False       5.727778   \n",
       "4      1    A           5 2010-02-05      32229.38       False       5.727778   \n",
       "\n",
       "   fuel_price_usd_per_l  unemployment  \n",
       "0              0.679451         8.106  \n",
       "1              0.679451         8.106  \n",
       "2              0.679451         8.106  \n",
       "3              0.679451         8.106  \n",
       "4              0.679451         8.106  "
      ]
     },
     "execution_count": 1,
     "metadata": {},
     "output_type": "execute_result"
    }
   ],
   "source": [
    "import pandas as pd\n",
    "satislar = pd.read_pickle(\"walmart_sales.pkl\")\n",
    "satislar.head()"
   ]
  },
  {
   "cell_type": "markdown",
   "metadata": {},
   "source": [
    "#### 1. min, max, mean, and median numpy istatistik fonksiyonlarini aggregate etmek: .agg([ _ , _ ,_ ])"
   ]
  },
  {
   "cell_type": "code",
   "execution_count": 2,
   "metadata": {},
   "outputs": [
    {
     "name": "stdout",
     "output_type": "stream",
     "text": [
      "         amin       amax          mean    median\n",
      "type                                            \n",
      "A    -4988.94  474330.10  20099.568043  10105.17\n",
      "B    -3924.00  693099.36  12335.331875   6269.02\n",
      "C     -379.00  112152.35   9519.532538   1149.67\n",
      "     unemployment                          fuel_price_usd_per_l            \\\n",
      "             amin    amax      mean median                 amin      amax   \n",
      "type                                                                        \n",
      "A           3.879  14.313  7.791595  7.818             0.653034  1.180321   \n",
      "B           4.125  14.313  7.889666  7.806             0.664129  1.180321   \n",
      "C           5.217  14.313  8.934350  8.300             0.664129  1.180321   \n",
      "\n",
      "                          \n",
      "          mean    median  \n",
      "type                      \n",
      "A     0.883391  0.902676  \n",
      "B     0.892997  0.922225  \n",
      "C     0.888848  0.902676  \n"
     ]
    }
   ],
   "source": [
    "import numpy as np\n",
    "\n",
    "# her bir magaza turune gore, haftalik satislarin śu istatistiklerini aliniz:  min, max, mean, and median\n",
    "satislar_istatistikler = satislar.groupby('type')['weekly_sales'].agg([np.min,np .max,np.mean,np.median])\n",
    "\n",
    "# Print satislar_istatistikler\n",
    "print(satislar_istatistikler)\n",
    "\n",
    "# her bir magaza turune gore, unemployment ve fuel_price_usd_per_l degiskenlerine ait \n",
    "# śu istatistiklerini aliniz:  min, max, mean, and median\n",
    "unemp_fuel_istatistikler = satislar.groupby('type')['unemployment','fuel_price_usd_per_l'].agg([np.min,np.max,np.mean,np.median])\n",
    "\n",
    "# Print unemp_fuel_istatistikler\n",
    "print(unemp_fuel_istatistikler)"
   ]
  },
  {
   "cell_type": "markdown",
   "metadata": {},
   "source": [
    "#### 2. .pivot_table(values='column1', index='column2')"
   ]
  },
  {
   "cell_type": "code",
   "execution_count": 3,
   "metadata": {},
   "outputs": [
    {
     "name": "stdout",
     "output_type": "stream",
     "text": [
      "      weekly_sales\n",
      "type              \n",
      "A     20099.568043\n",
      "B     12335.331875\n",
      "C      9519.532538\n"
     ]
    }
   ],
   "source": [
    "# Pivot tablo olusturunuz:  herbir magaza turune gore haftalik satis ortalamasini aliniz\n",
    "tipe_gore_ort_satislar = satislar.pivot_table(values='weekly_sales', index='type')\n",
    "\n",
    "# Print mean_sales_by_type\n",
    "print(tipe_gore_ort_satislar)"
   ]
  },
  {
   "cell_type": "markdown",
   "metadata": {},
   "source": [
    "#### 3. .pivot_table(values='column1', index='column2', aggfunc=[np.mean, np.median])"
   ]
  },
  {
   "cell_type": "code",
   "execution_count": 4,
   "metadata": {},
   "outputs": [
    {
     "name": "stdout",
     "output_type": "stream",
     "text": [
      "              mean       median\n",
      "      weekly_sales weekly_sales\n",
      "type                           \n",
      "A     20099.568043     10105.17\n",
      "B     12335.331875      6269.02\n",
      "C      9519.532538      1149.67\n"
     ]
    }
   ],
   "source": [
    "# Yukaridaki kodu editleyip  np.mean ve np.median degerleri tabloda gosterilsin\n",
    "tipe_gore_satislarin_ort_ve_median = satislar.pivot_table(values='weekly_sales',index='type', aggfunc=[np.mean, np.median])\n",
    "\n",
    "# Print mean_med_sales_by_type\n",
    "print(tipe_gore_satislarin_ort_ve_median)"
   ]
  },
  {
   "cell_type": "markdown",
   "metadata": {},
   "source": [
    "#### 4. .pivot_table(values='column1', index='column2',  columns='column3')"
   ]
  },
  {
   "cell_type": "code",
   "execution_count": 5,
   "metadata": {},
   "outputs": [
    {
     "name": "stdout",
     "output_type": "stream",
     "text": [
      "is_holiday         False         True \n",
      "type                                  \n",
      "A           20008.746759  21297.517824\n",
      "B           12248.741339  13478.844240\n",
      "C            9518.528116   9532.963131\n"
     ]
    }
   ],
   "source": [
    "# Yukaridaki kodu editleyip, columns olarak 'is_holiday' degiskenlerini yaziniz \n",
    "tip_ve_tatile_gore_satislar = satislar.pivot_table(values='weekly_sales', index='type', columns='is_holiday' )\n",
    "\n",
    "# Print   tip_ve_tatile_gore_satislar\n",
    "print(tip_ve_tatile_gore_satislar)"
   ]
  },
  {
   "cell_type": "markdown",
   "metadata": {
    "toc-hr-collapsed": false
   },
   "source": [
    "#### 5. .pivot_table(values='column1', index='column2',  columns='column3', fill_value=0)"
   ]
  },
  {
   "cell_type": "code",
   "execution_count": 6,
   "metadata": {},
   "outputs": [
    {
     "name": "stdout",
     "output_type": "stream",
     "text": [
      "type                   A             B             C\n",
      "department                                          \n",
      "27           1730.614921   1638.840966     19.715688\n",
      "28            705.489549    699.362823     89.811128\n",
      "29           5799.549360   5566.953724     13.208125\n",
      "30           4232.884210   4043.370179      0.000000\n",
      "31           2607.435351   2673.711993     58.397514\n",
      "32           8181.957817   7070.457959     40.497581\n",
      "33           6852.815966   6287.531399      6.785000\n",
      "34          15844.116003  15610.432522      8.504400\n",
      "35           3033.800262   2798.238086      7.000000\n",
      "36           2065.022866   1987.526852      0.000000\n",
      "37           3061.972555   3502.878746      0.000000\n",
      "38          65005.018090  58617.330979  54641.271900\n",
      "39              9.998667     28.000000      0.000000\n",
      "40          53645.225607  42563.037635  20020.366434\n",
      "41           1967.226170   1957.879996     44.380435\n"
     ]
    }
   ],
   "source": [
    "# satislar uzerinde .pivot_table() uygulayiniz, tablo degerleri: haftalik satis ortalamasi, columns: magaza tipi,\n",
    "# index: departman ve bos degerler: 0 olacak sekilde yaziniz\n",
    "print(satislar.pivot_table(values='weekly_sales', index='department', columns='type', fill_value=0)[25:40])"
   ]
  },
  {
   "cell_type": "markdown",
   "metadata": {},
   "source": [
    "#### 6. .pivot_table(values='column1', index='column2',  columns='column3', fill_value=0, margins=True )"
   ]
  },
  {
   "cell_type": "code",
   "execution_count": 7,
   "metadata": {},
   "outputs": [
    {
     "name": "stdout",
     "output_type": "stream",
     "text": [
      "type                   A             B             C           All\n",
      "department                                                        \n",
      "1           22956.887886  17990.876158   8951.733462  19213.485088\n",
      "2           51994.674873  43051.996919  14424.851713  43607.020113\n",
      "3           13881.033137  12965.414311    820.276818  11793.698516\n",
      "4           32973.814075  21259.895804  13669.370396  25974.630238\n",
      "5           26803.448045  21184.602916    767.600774  21365.583515\n",
      "...                  ...           ...           ...           ...\n",
      "96          19900.943552   4752.674874  15766.025431  15217.211505\n",
      "97          22093.807101   3543.243304  13419.542809  14437.120839\n",
      "98          10979.816195    299.951644   5479.758054   6973.013875\n",
      "99            431.443064     25.716667      8.330952    415.487065\n",
      "All         20099.568043  12335.331875   9519.532538  16094.726811\n",
      "\n",
      "[82 rows x 4 columns]\n"
     ]
    }
   ],
   "source": [
    "# satislar uzerinde .pivot_table() uygulayiniz, tablo degerleri: haftalik satis ortalamasi, columns: magaza tipi,\n",
    "# index: departman ve bos degerler: 0 olacak sekilde, ve kolon ve satir toplamlari ile birlikte yaziniz\n",
    "print(satislar.pivot_table(values='weekly_sales', index='department', columns='type', fill_value=0, margins=True))"
   ]
  },
  {
   "cell_type": "markdown",
   "metadata": {},
   "source": [
    "## Dataframe indeksleri"
   ]
  },
  {
   "cell_type": "code",
   "execution_count": 8,
   "metadata": {},
   "outputs": [
    {
     "name": "stdout",
     "output_type": "stream",
     "text": [
      "       month  day  year      City      Country  AverageTemperatureFahr\n",
      "0          1    1  1853  Auckland  New Zealand                     NaN\n",
      "1          2    1  1853  Auckland  New Zealand                     NaN\n",
      "2          3    1  1853  Auckland  New Zealand                     NaN\n",
      "3          4    1  1853  Auckland  New Zealand                     NaN\n",
      "4          5    1  1853  Auckland  New Zealand                     NaN\n",
      "...      ...  ...   ...       ...          ...                     ...\n",
      "48465      5    1  2013   Wroclaw       Poland                 55.0544\n",
      "48466      6    1  2013   Wroclaw       Poland                 61.1672\n",
      "48467      7    1  2013   Wroclaw       Poland                 66.7706\n",
      "48468      8    1  2013   Wroclaw       Poland                 64.5656\n",
      "48469      9    1  2013   Wroclaw       Poland                     NaN\n",
      "\n",
      "[48470 rows x 6 columns]\n"
     ]
    }
   ],
   "source": [
    "temperatures = pd.read_csv(\"temperature.csv\")\n",
    "temperatures = temperatures[['month','day','year','City','Country','AverageTemperatureFahr']]\n",
    "print(temperatures)"
   ]
  },
  {
   "cell_type": "markdown",
   "metadata": {},
   "source": [
    "#### 7. .set_index('column')"
   ]
  },
  {
   "cell_type": "code",
   "execution_count": 9,
   "metadata": {},
   "outputs": [
    {
     "name": "stdout",
     "output_type": "stream",
     "text": [
      "          month  day  year      Country  AverageTemperatureFahr\n",
      "City                                                           \n",
      "Auckland      1    1  1853  New Zealand                     NaN\n",
      "Auckland      2    1  1853  New Zealand                     NaN\n",
      "Auckland      3    1  1853  New Zealand                     NaN\n",
      "Auckland      4    1  1853  New Zealand                     NaN\n",
      "Auckland      5    1  1853  New Zealand                     NaN\n",
      "...         ...  ...   ...          ...                     ...\n",
      "Wroclaw       5    1  2013       Poland                 55.0544\n",
      "Wroclaw       6    1  2013       Poland                 61.1672\n",
      "Wroclaw       7    1  2013       Poland                 66.7706\n",
      "Wroclaw       8    1  2013       Poland                 64.5656\n",
      "Wroclaw       9    1  2013       Poland                     NaN\n",
      "\n",
      "[48470 rows x 5 columns]\n"
     ]
    }
   ],
   "source": [
    "#  City  degiskenini index yapiniz\n",
    "temperatures_ind = temperatures.set_index('City')\n",
    "\n",
    "# print  temperatures_ind\n",
    "print(temperatures_ind)"
   ]
  },
  {
   "cell_type": "markdown",
   "metadata": {},
   "source": [
    "#### 8. .reset_index()"
   ]
  },
  {
   "cell_type": "code",
   "execution_count": 10,
   "metadata": {},
   "outputs": [
    {
     "name": "stdout",
     "output_type": "stream",
     "text": [
      "           City  month  day  year      Country  AverageTemperatureFahr\n",
      "0      Auckland      1    1  1853  New Zealand                     NaN\n",
      "1      Auckland      2    1  1853  New Zealand                     NaN\n",
      "2      Auckland      3    1  1853  New Zealand                     NaN\n",
      "3      Auckland      4    1  1853  New Zealand                     NaN\n",
      "4      Auckland      5    1  1853  New Zealand                     NaN\n",
      "...         ...    ...  ...   ...          ...                     ...\n",
      "48465   Wroclaw      5    1  2013       Poland                 55.0544\n",
      "48466   Wroclaw      6    1  2013       Poland                 61.1672\n",
      "48467   Wroclaw      7    1  2013       Poland                 66.7706\n",
      "48468   Wroclaw      8    1  2013       Poland                 64.5656\n",
      "48469   Wroclaw      9    1  2013       Poland                     NaN\n",
      "\n",
      "[48470 rows x 6 columns]\n"
     ]
    }
   ],
   "source": [
    "# indexi resetleyiniz, fakat index bir degisken olarak kalsin\n",
    "print(temperatures_ind.reset_index())    # islem kalici degil"
   ]
  },
  {
   "cell_type": "markdown",
   "metadata": {},
   "source": [
    "#### 9. .reset_index(drop=True)"
   ]
  },
  {
   "cell_type": "code",
   "execution_count": 11,
   "metadata": {},
   "outputs": [
    {
     "name": "stdout",
     "output_type": "stream",
     "text": [
      "       month  day  year      Country  AverageTemperatureFahr\n",
      "0          1    1  1853  New Zealand                     NaN\n",
      "1          2    1  1853  New Zealand                     NaN\n",
      "2          3    1  1853  New Zealand                     NaN\n",
      "3          4    1  1853  New Zealand                     NaN\n",
      "4          5    1  1853  New Zealand                     NaN\n",
      "...      ...  ...   ...          ...                     ...\n",
      "48465      5    1  2013       Poland                 55.0544\n",
      "48466      6    1  2013       Poland                 61.1672\n",
      "48467      7    1  2013       Poland                 66.7706\n",
      "48468      8    1  2013       Poland                 64.5656\n",
      "48469      9    1  2013       Poland                     NaN\n",
      "\n",
      "[48470 rows x 5 columns]\n"
     ]
    }
   ],
   "source": [
    "# indexi resetleyiniz,  index silinsin\n",
    "print(temperatures_ind.reset_index(drop=True))    # islem kalici degil"
   ]
  },
  {
   "cell_type": "markdown",
   "metadata": {},
   "source": [
    "#### 10. .isin(ornek_liste)"
   ]
  },
  {
   "cell_type": "code",
   "execution_count": 12,
   "metadata": {},
   "outputs": [
    {
     "name": "stdout",
     "output_type": "stream",
     "text": [
      "       month  day  year      City      Country  AverageTemperatureFahr\n",
      "0          1    1  1853  Auckland  New Zealand                     NaN\n",
      "1          2    1  1853  Auckland  New Zealand                     NaN\n",
      "2          3    1  1853  Auckland  New Zealand                     NaN\n",
      "3          4    1  1853  Auckland  New Zealand                     NaN\n",
      "4          5    1  1853  Auckland  New Zealand                     NaN\n",
      "...      ...  ...   ...       ...          ...                     ...\n",
      "48465      5    1  2013   Wroclaw       Poland                 55.0544\n",
      "48466      6    1  2013   Wroclaw       Poland                 61.1672\n",
      "48467      7    1  2013   Wroclaw       Poland                 66.7706\n",
      "48468      8    1  2013   Wroclaw       Poland                 64.5656\n",
      "48469      9    1  2013   Wroclaw       Poland                     NaN\n",
      "\n",
      "[5120 rows x 6 columns]\n",
      "          month  day  year      Country  AverageTemperatureFahr\n",
      "City                                                           \n",
      "Auckland      1    1  1853  New Zealand                     NaN\n",
      "Auckland      2    1  1853  New Zealand                     NaN\n",
      "Auckland      3    1  1853  New Zealand                     NaN\n",
      "Auckland      4    1  1853  New Zealand                     NaN\n",
      "Auckland      5    1  1853  New Zealand                     NaN\n",
      "...         ...  ...   ...          ...                     ...\n",
      "Wroclaw       5    1  2013       Poland                 55.0544\n",
      "Wroclaw       6    1  2013       Poland                 61.1672\n",
      "Wroclaw       7    1  2013       Poland                 66.7706\n",
      "Wroclaw       8    1  2013       Poland                 64.5656\n",
      "Wroclaw       9    1  2013       Poland                     NaN\n",
      "\n",
      "[5120 rows x 5 columns]\n"
     ]
    }
   ],
   "source": [
    "cities = ['Auckland','Wroclaw']\n",
    "\n",
    "# temperatures cities listesindekki isimlere gore filtreleyiniz\n",
    "print(temperatures[temperatures['City'].isin(cities)])\n",
    "\n",
    "# ayni islemi .loc[] ile yapiniz\n",
    "print(temperatures_ind.loc[cities])    \n",
    "# indekste bulunmali!   7 ve 10u pespese calistiriniz, ardindan 8 ve 10u calistiriniz"
   ]
  },
  {
   "cell_type": "markdown",
   "metadata": {},
   "source": [
    "#### 11. Multiindex: .set_index(['var1','var2']"
   ]
  },
  {
   "cell_type": "code",
   "execution_count": 13,
   "metadata": {},
   "outputs": [
    {
     "name": "stdout",
     "output_type": "stream",
     "text": [
      "                        month  day    year  AverageTemperatureFahr\n",
      "Country City                                                      \n",
      "Brazil  Rio De Janerio    NaN  NaN     NaN                     NaN\n",
      "NaN     NaN               5.0  1.0  1856.0                 55.4288\n",
      "        NaN               6.0  1.0  1859.0                 54.3794\n",
      "        NaN              12.0  1.0  1861.0                 64.2272\n",
      "        NaN               1.0  1.0  1862.0                 64.2830\n",
      "...                       ...  ...     ...                     ...\n",
      "        NaN               9.0  1.0  1988.0                 56.1866\n",
      "        NaN               7.0  1.0  1990.0                 61.5884\n",
      "        NaN              12.0  1.0  1991.0                 29.4386\n",
      "        NaN               8.0  1.0  1993.0                 61.4516\n",
      "        NaN               3.0  1.0  1995.0                 36.2228\n",
      "\n",
      "[485 rows x 4 columns]\n"
     ]
    },
    {
     "name": "stderr",
     "output_type": "stream",
     "text": [
      "/Users/mac/opt/anaconda3/lib/python3.7/site-packages/ipykernel_launcher.py:8: FutureWarning: \n",
      "Passing list-likes to .loc or [] with any missing label will raise\n",
      "KeyError in the future, you can use .reindex() as an alternative.\n",
      "\n",
      "See the documentation here:\n",
      "https://pandas.pydata.org/pandas-docs/stable/user_guide/indexing.html#deprecate-loc-reindex-listlike\n",
      "  \n"
     ]
    }
   ],
   "source": [
    "#  City ve Country degiskenlerini beraber index yapiniz (cift indeks)\n",
    "temperatures_ind = temperatures.set_index(['Country','City'])\n",
    "\n",
    "# ornek liste\n",
    "rows_to_keep = [ ('Brazil','Rio De Janerio'),('Pakistan','Lahore') ]\n",
    "\n",
    "# listeye gore seciniz\n",
    "print(temperatures_ind.loc[rows_to_keep])"
   ]
  },
  {
   "cell_type": "markdown",
   "metadata": {},
   "source": [
    "#### 12. .sort_index()"
   ]
  },
  {
   "cell_type": "code",
   "execution_count": 14,
   "metadata": {},
   "outputs": [
    {
     "name": "stdout",
     "output_type": "stream",
     "text": [
      "                  month  day  year  AverageTemperatureFahr\n",
      "Country City                                              \n",
      "Brazil  Brasília      1    1  1832                 71.3714\n",
      "        Brasília      2    1  1832                 71.5532\n",
      "        Brasília      3    1  1832                 71.1158\n",
      "        Brasília      4    1  1832                 69.7226\n",
      "        Brasília      5    1  1832                 68.2178\n",
      "...                 ...  ...   ...                     ...\n",
      "NaN     NaN           9    1  1988                 56.1866\n",
      "        NaN           7    1  1990                 61.5884\n",
      "        NaN          12    1  1991                 29.4386\n",
      "        NaN           8    1  1993                 61.4516\n",
      "        NaN           3    1  1995                 36.2228\n",
      "\n",
      "[48470 rows x 4 columns]\n"
     ]
    }
   ],
   "source": [
    "# indekse gore siralayiniz\n",
    "print(temperatures_ind.sort_index())"
   ]
  },
  {
   "cell_type": "markdown",
   "metadata": {},
   "source": [
    "#### 13. .sort_index(level='example_idx')"
   ]
  },
  {
   "cell_type": "code",
   "execution_count": 15,
   "metadata": {},
   "outputs": [
    {
     "name": "stdout",
     "output_type": "stream",
     "text": [
      "                 month  day  year  AverageTemperatureFahr\n",
      "Country City                                             \n",
      "NaN     NaN          5    1  1856                 55.4288\n",
      "        NaN          6    1  1859                 54.3794\n",
      "        NaN         12    1  1861                 64.2272\n",
      "        NaN          1    1  1862                 64.2830\n",
      "        NaN         10    1  1871                 55.9292\n",
      "...                ...  ...   ...                     ...\n",
      "Poland  Wroclaw      5    1  2013                 55.0544\n",
      "        Wroclaw      6    1  2013                 61.1672\n",
      "        Wroclaw      7    1  2013                 66.7706\n",
      "        Wroclaw      8    1  2013                 64.5656\n",
      "        Wroclaw      9    1  2013                     NaN\n",
      "\n",
      "[48470 rows x 4 columns]\n"
     ]
    }
   ],
   "source": [
    "# cift indekli temperatures_ind i City indeksine gore siralayiniz\n",
    "print(temperatures_ind.sort_index(level='City'))"
   ]
  },
  {
   "cell_type": "markdown",
   "metadata": {},
   "source": [
    "#### 14. .sort_index(level=['idx1','idx2'], ascending=[True,False])"
   ]
  },
  {
   "cell_type": "code",
   "execution_count": 16,
   "metadata": {},
   "outputs": [
    {
     "name": "stdout",
     "output_type": "stream",
     "text": [
      "                 month  day  year  AverageTemperatureFahr\n",
      "Country City                                             \n",
      "NaN     NaN          5    1  1856                 55.4288\n",
      "        NaN          6    1  1859                 54.3794\n",
      "        NaN         12    1  1861                 64.2272\n",
      "        NaN          1    1  1862                 64.2830\n",
      "        NaN         10    1  1871                 55.9292\n",
      "...                ...  ...   ...                     ...\n",
      "Ukraine Kherson      5    1  2013                 67.5176\n",
      "        Kherson      6    1  2013                 72.0176\n",
      "        Kherson      7    1  2013                 72.4496\n",
      "        Kherson      8    1  2013                 73.1498\n",
      "        Kherson      9    1  2013                     NaN\n",
      "\n",
      "[48470 rows x 4 columns]\n"
     ]
    }
   ],
   "source": [
    "# cift indekli temperatures_ind i sirasiyla Country ve City indekslerine gore \n",
    "# sirasiyla kucukten buyuge ve buyukten kucuge siralayiniz\n",
    "print(temperatures_ind.sort_index(level=['Country','City'], ascending=[True,False]))"
   ]
  },
  {
   "cell_type": "markdown",
   "metadata": {},
   "source": [
    "#### 15. cift indekste secme1: .loc[['ulke1','ulke2'],:]  "
   ]
  },
  {
   "cell_type": "code",
   "execution_count": 17,
   "metadata": {},
   "outputs": [
    {
     "name": "stdout",
     "output_type": "stream",
     "text": [
      "                  month  day  year  AverageTemperatureFahr\n",
      "Country City                                              \n",
      "Brazil  Brasília      1    1  1832                 71.3714\n",
      "        Brasília      2    1  1832                 71.5532\n",
      "        Brasília      3    1  1832                 71.1158\n",
      "        Brasília      4    1  1832                 69.7226\n",
      "        Brasília      5    1  1832                 68.2178\n",
      "...                 ...  ...   ...                     ...\n",
      "France  Paris         5    1  2013                 53.0654\n",
      "        Paris         6    1  2013                 61.4120\n",
      "        Paris         7    1  2013                 70.1348\n",
      "        Paris         8    1  2013                 66.6230\n",
      "        Paris         9    1  2013                     NaN\n",
      "\n",
      "[10725 rows x 4 columns]\n"
     ]
    }
   ],
   "source": [
    "#  temperatures_ind i indekse gore siralayiniz\n",
    "temperatures_srt = temperatures_ind.sort_index()\n",
    "\n",
    "# Brazil ve France  i seciniz\n",
    "print(temperatures_srt.loc[['Brazil','France'],:])"
   ]
  },
  {
   "cell_type": "markdown",
   "metadata": {},
   "source": [
    "#### 16. cift indekste secme2: .loc[[('ulke1','ulke2'),('sehir1','sehir2')],:]"
   ]
  },
  {
   "cell_type": "code",
   "execution_count": 18,
   "metadata": {},
   "outputs": [
    {
     "name": "stdout",
     "output_type": "stream",
     "text": [
      "Empty DataFrame\n",
      "Columns: [month, day, year, AverageTemperatureFahr]\n",
      "Index: []\n"
     ]
    }
   ],
   "source": [
    "# Bu sekilde secme bos doner\n",
    "print(temperatures_srt.loc[['Brasília','Paris'],:]) "
   ]
  },
  {
   "cell_type": "code",
   "execution_count": 19,
   "metadata": {},
   "outputs": [
    {
     "name": "stdout",
     "output_type": "stream",
     "text": [
      "                  month  day  year  AverageTemperatureFahr\n",
      "Country City                                              \n",
      "Brazil  Brasília      1    1  1832                 71.3714\n",
      "        Brasília      2    1  1832                 71.5532\n",
      "        Brasília      3    1  1832                 71.1158\n",
      "        Brasília      4    1  1832                 69.7226\n",
      "        Brasília      5    1  1832                 68.2178\n",
      "...                 ...  ...   ...                     ...\n",
      "France  Paris         5    1  2013                 53.0654\n",
      "        Paris         6    1  2013                 61.4120\n",
      "        Paris         7    1  2013                 70.1348\n",
      "        Paris         8    1  2013                 66.6230\n",
      "        Paris         9    1  2013                     NaN\n",
      "\n",
      "[5366 rows x 4 columns]\n"
     ]
    }
   ],
   "source": [
    "# Yukaridaki sehir secimini dogru kod ile yapiniz \n",
    "print(temperatures_srt.loc[[('Brazil','Brasília'),('France','Paris')],:])    "
   ]
  },
  {
   "cell_type": "markdown",
   "metadata": {},
   "source": [
    "#### 17. df[ (df[\"var\"] >= 5) & (df[\"var\"] < 10) ]"
   ]
  },
  {
   "cell_type": "code",
   "execution_count": 20,
   "metadata": {},
   "outputs": [
    {
     "name": "stdout",
     "output_type": "stream",
     "text": [
      "       month  day  year      City      Country  AverageTemperatureFahr\n",
      "1884       1    1  2010  Auckland  New Zealand                 66.2864\n",
      "1885       2    1  2010  Auckland  New Zealand                 69.6866\n",
      "1886       3    1  2010  Auckland  New Zealand                 66.2972\n",
      "1887       4    1  2010  Auckland  New Zealand                 63.0824\n",
      "1888       5    1  2010  Auckland  New Zealand                 60.0332\n",
      "...      ...  ...   ...       ...          ...                     ...\n",
      "48444      8    1  2011   Wroclaw       Poland                 64.8536\n",
      "48445      9    1  2011   Wroclaw       Poland                 59.2196\n",
      "48446     10    1  2011   Wroclaw       Poland                 47.6726\n",
      "48447     11    1  2011   Wroclaw       Poland                 38.6870\n",
      "48448     12    1  2011   Wroclaw       Poland                 36.2732\n",
      "\n",
      "[432 rows x 6 columns]\n"
     ]
    }
   ],
   "source": [
    "# year degiskeni uzerinde islem yaparak 2010 den 2011 e kadar olan gozlemleri yazdiriniz\n",
    "print(temperatures[(temperatures[\"year\"] >= 2010) & (temperatures[\"year\"] < 2012)])"
   ]
  },
  {
   "cell_type": "markdown",
   "metadata": {},
   "source": [
    "#### 18. df.pivot_table(\"var\", index=['var1','var2'], columns=\"var3\")"
   ]
  },
  {
   "cell_type": "code",
   "execution_count": 21,
   "metadata": {},
   "outputs": [
    {
     "name": "stdout",
     "output_type": "stream",
     "text": [
      "year                          1743       1744      1745       1750       1751\n",
      "Country      City                                                            \n",
      "Brazil       Brasília          NaN        NaN       NaN        NaN        NaN\n",
      "             Canoas            NaN        NaN       NaN        NaN        NaN\n",
      "France       Marseille     56.9426  61.072700  49.93880  60.251000  60.430100\n",
      "             Paris         45.7664  52.663550  40.51220  52.116636  52.074950\n",
      "Japan        Tokyo             NaN        NaN       NaN        NaN        NaN\n",
      "             Tottori           NaN        NaN       NaN        NaN        NaN\n",
      "New Zealand  Auckland          NaN        NaN       NaN        NaN        NaN\n",
      "             Hamilton          NaN        NaN       NaN        NaN        NaN\n",
      "Poland       Warsaw        38.1740  46.621143  29.71445  46.889764  46.805225\n",
      "             Wroclaw       40.0892  48.134525  31.28450  46.663945  46.607000\n",
      "South Africa Cape Town         NaN        NaN       NaN        NaN        NaN\n",
      "             Johannesburg      NaN        NaN       NaN        NaN        NaN\n",
      "Sweden       Stockholm     42.8414  45.814100  27.80555  45.226564  43.628225\n",
      "             Uppsala       34.5524  42.661625  23.19620  41.942218  40.512200\n",
      "Ukraine      Kherson       36.8906  52.132775  31.03790  49.187382  50.005400\n",
      "             Kiev          33.6110  49.097525  27.52925  46.123291  46.598225\n",
      "             Lvov          37.1120  48.722450  29.25860  46.402455  46.511825\n",
      "             Odesa         45.0680  53.349286  35.21975  51.350400  51.902150\n"
     ]
    }
   ],
   "source": [
    "# pivot_table fonk ile sicaklik ortalamalarini (AverageTemperatureFahr) yazdiriniz:  index olarak  country ve city   column olarak  year aliniz \n",
    "temp_by_country_city_vs_year = temperatures.pivot_table(\"AverageTemperatureFahr\", index=['Country','City'], columns=\"year\").iloc[:,:5]\n",
    "\n",
    "# ilk 5 kolonu secerek sonuc:\n",
    "print(temp_by_country_city_vs_year)"
   ]
  },
  {
   "cell_type": "markdown",
   "metadata": {},
   "source": [
    "#### 19. "
   ]
  },
  {
   "cell_type": "code",
   "execution_count": 22,
   "metadata": {},
   "outputs": [
    {
     "name": "stdout",
     "output_type": "stream",
     "text": [
      "year                  1743      1744     1745       1750      1751\n",
      "Country City                                                      \n",
      "France  Marseille  56.9426  61.07270  49.9388  60.251000  60.43010\n",
      "        Paris      45.7664  52.66355  40.5122  52.116636  52.07495\n",
      "Japan   Tokyo          NaN       NaN      NaN        NaN       NaN\n",
      "        Tottori        NaN       NaN      NaN        NaN       NaN\n"
     ]
    }
   ],
   "source": [
    "# cift indeksli olan bir ustteki dataframe uzerinde France ten Japan a kadar yazdiriniz\n",
    "print(temp_by_country_city_vs_year.loc['France':'Japan'])"
   ]
  },
  {
   "cell_type": "code",
   "execution_count": 23,
   "metadata": {},
   "outputs": [
    {
     "name": "stdout",
     "output_type": "stream",
     "text": [
      "year                     1743      1744     1745       1750      1751\n",
      "Country     City                                                     \n",
      "France      Paris     45.7664  52.66355  40.5122  52.116636  52.07495\n",
      "Japan       Tokyo         NaN       NaN      NaN        NaN       NaN\n",
      "            Tottori       NaN       NaN      NaN        NaN       NaN\n",
      "New Zealand Auckland      NaN       NaN      NaN        NaN       NaN\n",
      "            Hamilton      NaN       NaN      NaN        NaN       NaN\n"
     ]
    }
   ],
   "source": [
    "# cift indeksli olan bir ustteki dataframe uzerinde  France, Paris   ten   New Zealand, Hamilton  e kadar yazdiriniz\n",
    "print(temp_by_country_city_vs_year.loc[('France','Paris'):('New Zealand','Hamilton')])"
   ]
  },
  {
   "cell_type": "code",
   "execution_count": 24,
   "metadata": {},
   "outputs": [
    {
     "name": "stdout",
     "output_type": "stream",
     "text": [
      "year                      1744     1745       1750\n",
      "Country     City                                  \n",
      "France      Paris     52.66355  40.5122  52.116636\n",
      "Japan       Tokyo          NaN      NaN        NaN\n",
      "            Tottori        NaN      NaN        NaN\n",
      "New Zealand Auckland       NaN      NaN        NaN\n",
      "            Hamilton       NaN      NaN        NaN\n"
     ]
    }
   ],
   "source": [
    "# ustteki hucredeki islemi ve 1744 ile 1750 yillari arasini seciniz\n",
    "print(temp_by_country_city_vs_year.loc[('France','Paris'):('New Zealand','Hamilton'),1744:1750])"
   ]
  },
  {
   "cell_type": "markdown",
   "metadata": {},
   "source": [
    "## DataFrameler uzerinde gorsellestirme ve bazi islemler"
   ]
  },
  {
   "cell_type": "code",
   "execution_count": 25,
   "metadata": {},
   "outputs": [
    {
     "data": {
      "text/html": [
       "<div>\n",
       "<style scoped>\n",
       "    .dataframe tbody tr th:only-of-type {\n",
       "        vertical-align: middle;\n",
       "    }\n",
       "\n",
       "    .dataframe tbody tr th {\n",
       "        vertical-align: top;\n",
       "    }\n",
       "\n",
       "    .dataframe thead th {\n",
       "        text-align: right;\n",
       "    }\n",
       "</style>\n",
       "<table border=\"1\" class=\"dataframe\">\n",
       "  <thead>\n",
       "    <tr style=\"text-align: right;\">\n",
       "      <th></th>\n",
       "      <th>date</th>\n",
       "      <th>type</th>\n",
       "      <th>year</th>\n",
       "      <th>avg_price</th>\n",
       "      <th>size</th>\n",
       "      <th>nb_sold</th>\n",
       "    </tr>\n",
       "  </thead>\n",
       "  <tbody>\n",
       "    <tr>\n",
       "      <td>0</td>\n",
       "      <td>2015-12-27</td>\n",
       "      <td>conventional</td>\n",
       "      <td>2015</td>\n",
       "      <td>0.95</td>\n",
       "      <td>small</td>\n",
       "      <td>9626901.09</td>\n",
       "    </tr>\n",
       "    <tr>\n",
       "      <td>1</td>\n",
       "      <td>2015-12-20</td>\n",
       "      <td>conventional</td>\n",
       "      <td>2015</td>\n",
       "      <td>0.98</td>\n",
       "      <td>small</td>\n",
       "      <td>8710021.76</td>\n",
       "    </tr>\n",
       "    <tr>\n",
       "      <td>2</td>\n",
       "      <td>2015-12-13</td>\n",
       "      <td>conventional</td>\n",
       "      <td>2015</td>\n",
       "      <td>0.93</td>\n",
       "      <td>small</td>\n",
       "      <td>9855053.66</td>\n",
       "    </tr>\n",
       "    <tr>\n",
       "      <td>3</td>\n",
       "      <td>2015-12-06</td>\n",
       "      <td>conventional</td>\n",
       "      <td>2015</td>\n",
       "      <td>0.89</td>\n",
       "      <td>small</td>\n",
       "      <td>9405464.36</td>\n",
       "    </tr>\n",
       "    <tr>\n",
       "      <td>4</td>\n",
       "      <td>2015-11-29</td>\n",
       "      <td>conventional</td>\n",
       "      <td>2015</td>\n",
       "      <td>0.99</td>\n",
       "      <td>small</td>\n",
       "      <td>8094803.56</td>\n",
       "    </tr>\n",
       "  </tbody>\n",
       "</table>\n",
       "</div>"
      ],
      "text/plain": [
       "         date          type  year  avg_price   size     nb_sold\n",
       "0  2015-12-27  conventional  2015       0.95  small  9626901.09\n",
       "1  2015-12-20  conventional  2015       0.98  small  8710021.76\n",
       "2  2015-12-13  conventional  2015       0.93  small  9855053.66\n",
       "3  2015-12-06  conventional  2015       0.89  small  9405464.36\n",
       "4  2015-11-29  conventional  2015       0.99  small  8094803.56"
      ]
     },
     "execution_count": 25,
     "metadata": {},
     "output_type": "execute_result"
    }
   ],
   "source": [
    "avocados = pd.read_pickle(\"avoplotto.pkl\")\n",
    "avocados.head()"
   ]
  },
  {
   "cell_type": "markdown",
   "metadata": {},
   "source": [
    "#### 20. .plot(kind='bar')"
   ]
  },
  {
   "cell_type": "code",
   "execution_count": 26,
   "metadata": {},
   "outputs": [
    {
     "name": "stdout",
     "output_type": "stream",
     "text": [
      "         date          type  year  avg_price   size     nb_sold\n",
      "0  2015-12-27  conventional  2015       0.95  small  9626901.09\n",
      "1  2015-12-20  conventional  2015       0.98  small  8710021.76\n",
      "2  2015-12-13  conventional  2015       0.93  small  9855053.66\n",
      "3  2015-12-06  conventional  2015       0.89  small  9405464.36\n",
      "4  2015-11-29  conventional  2015       0.99  small  8094803.56\n"
     ]
    },
    {
     "data": {
      "text/plain": [
       "<Figure size 640x480 with 1 Axes>"
      ]
     },
     "metadata": {},
     "output_type": "display_data"
    }
   ],
   "source": [
    "#  matplotlib.pyplot i plt diye  import ediniz  \n",
    "import matplotlib.pyplot as plt\n",
    "\n",
    "# avocados dfsinin ilk gozlemlerine bakalim\n",
    "print(avocados.head())\n",
    "\n",
    "#  \"size\"  degiskenine gore guruplayip  her gurup icin nb_sold degiskeninin toplamini kaydediniz (kac tane satildigi): nb_sold_by_size\n",
    "nb_sold_by_size = avocados.groupby('size')['nb_sold'].sum()\n",
    "\n",
    "# nb_sold_by_size  uzerinde bar turu grafik olusturunuz\n",
    "nb_sold_by_size.plot(kind='bar')\n",
    "\n",
    "# graf i gorelim\n",
    "plt.show()"
   ]
  },
  {
   "cell_type": "markdown",
   "metadata": {},
   "source": [
    "#### 21. .plot(kind='line', x='var1', y='var2')"
   ]
  },
  {
   "cell_type": "code",
   "execution_count": 27,
   "metadata": {},
   "outputs": [
    {
     "data": {
      "image/png": "[encoded data removed]",
      "text/plain": [
       "<Figure size 432x288 with 1 Axes>"
      ]
     },
     "metadata": {
      "needs_background": "light"
     },
     "output_type": "display_data"
    }
   ],
   "source": [
    "# date e gore guruplayip her gurup icin nb_sold degiskenin toplamini kaydediniz:  nb_sold_by_date\n",
    "nb_sold_by_date = avocados.groupby('date')['nb_sold'].sum()\n",
    "\n",
    "# nb_sold_by_date  uzerinde line grafigi olusturunuz, x ekseni date, y ekseni nb_sold seciniz\n",
    "nb_sold_by_date.plot(kind='line', x='date', y='nb_sold')\n",
    "\n",
    "# graf i gorelim\n",
    "plt.show()"
   ]
  },
  {
   "cell_type": "markdown",
   "metadata": {},
   "source": [
    "#### 22. .plot(kind='scatter', x='var1', y='var2', title='Baslik...')"
   ]
  },
  {
   "cell_type": "code",
   "execution_count": 28,
   "metadata": {},
   "outputs": [
    {
     "data": {
      "image/png": "[encoded data removed]",
      "text/plain": [
       "<Figure size 432x288 with 1 Axes>"
      ]
     },
     "metadata": {
      "needs_background": "light"
     },
     "output_type": "display_data"
    }
   ],
   "source": [
    "# avocados uzerinde scatter graf uygulayiniz, x ekseni icin nb_sold,  y ekseni icin avg_price i seciniz \n",
    "# bir baslik atiniz\n",
    "avocados.plot(kind='scatter', x='nb_sold', y='avg_price', \n",
    "            title='Number of avocados sold vs. average price')\n",
    "\n",
    "# graf i gosteriniz\n",
    "plt.show()"
   ]
  },
  {
   "cell_type": "markdown",
   "metadata": {},
   "source": [
    "#### 23.a  df1.hist(); df2.hist(): plt.legend(['lgnd1','lgnd2']); plt.show()"
   ]
  },
  {
   "cell_type": "code",
   "execution_count": 29,
   "metadata": {},
   "outputs": [
    {
     "data": {
      "image/png": "[encoded data removed]",
      "text/plain": [
       "<Figure size 432x288 with 1 Axes>"
      ]
     },
     "metadata": {
      "needs_background": "light"
     },
     "output_type": "display_data"
    }
   ],
   "source": [
    "# tipi conventional olan gozlemleri filtreleyiniz,  avg_price  degiskeni uzerinde Histogram graf olusturunuz\n",
    "avocados[avocados['type']=='conventional']['avg_price'].hist()\n",
    "\n",
    "# ayni grafi tipi organic olanlar icin de olusturunuz\n",
    "avocados[avocados['type']=='organic']['avg_price'].hist()\n",
    "\n",
    "#  legend  ekleyiniz\n",
    "plt.legend(['conventional','organic'])\n",
    "\n",
    "# graf i gosteriniz\n",
    "plt.show()"
   ]
  },
  {
   "cell_type": "markdown",
   "metadata": {
    "toc-hr-collapsed": false
   },
   "source": [
    "#### 23.b alpha= ve bins="
   ]
  },
  {
   "cell_type": "code",
   "execution_count": 30,
   "metadata": {},
   "outputs": [
    {
     "data": {
      "image/png": "[encoded data removed]",
      "text/plain": [
       "<Figure size 432x288 with 1 Axes>"
      ]
     },
     "metadata": {
      "needs_background": "light"
     },
     "output_type": "display_data"
    }
   ],
   "source": [
    "# yukarindaki her iki grafige 0.5 seffaflik ve 20 bins ekleyiniz\n",
    "avocados[avocados['type']=='conventional']['avg_price'].hist(alpha=0.5,  bins=20)\n",
    "avocados[avocados['type']=='organic']['avg_price'].hist(alpha=0.5, bins=20)\n",
    "\n",
    "plt.legend(['conventional','organic'])\n",
    "\n",
    "plt.show()"
   ]
  },
  {
   "cell_type": "markdown",
   "metadata": {},
   "source": [
    "#### 24. Missing values (NaN: Not Any Number) isna(), isna().any() ve .plot(kind='bar')"
   ]
  },
  {
   "cell_type": "code",
   "execution_count": 31,
   "metadata": {},
   "outputs": [
    {
     "name": "stdout",
     "output_type": "stream",
     "text": [
      "      date   type   year  avg_price   size  nb_sold\n",
      "52   False  False  False      False  False    False\n",
      "53   False  False  False      False  False    False\n",
      "54   False  False  False      False  False    False\n",
      "55   False  False  False      False  False    False\n",
      "56   False  False  False      False  False    False\n",
      "..     ...    ...    ...        ...    ...      ...\n",
      "944  False  False  False      False  False    False\n",
      "945  False  False  False      False  False    False\n",
      "946  False  False  False      False  False    False\n",
      "947  False  False  False      False  False    False\n",
      "948  False  False  False      False  False    False\n",
      "\n",
      "[312 rows x 6 columns]\n",
      "date         False\n",
      "type         False\n",
      "year         False\n",
      "avg_price     True\n",
      "size          True\n",
      "nb_sold       True\n",
      "dtype: bool\n"
     ]
    },
    {
     "name": "stderr",
     "output_type": "stream",
     "text": [
      "/Users/mac/opt/anaconda3/lib/python3.7/site-packages/ipykernel_launcher.py:2: SettingWithCopyWarning: \n",
      "A value is trying to be set on a copy of a slice from a DataFrame\n",
      "\n",
      "See the caveats in the documentation: http://pandas.pydata.org/pandas-docs/stable/user_guide/indexing.html#returning-a-view-versus-a-copy\n",
      "  \n",
      "/Users/mac/opt/anaconda3/lib/python3.7/site-packages/ipykernel_launcher.py:3: SettingWithCopyWarning: \n",
      "A value is trying to be set on a copy of a slice from a DataFrame\n",
      "\n",
      "See the caveats in the documentation: http://pandas.pydata.org/pandas-docs/stable/user_guide/indexing.html#returning-a-view-versus-a-copy\n",
      "  This is separate from the ipykernel package so we can avoid doing imports until\n",
      "/Users/mac/opt/anaconda3/lib/python3.7/site-packages/ipykernel_launcher.py:4: SettingWithCopyWarning: \n",
      "A value is trying to be set on a copy of a slice from a DataFrame\n",
      "\n",
      "See the caveats in the documentation: http://pandas.pydata.org/pandas-docs/stable/user_guide/indexing.html#returning-a-view-versus-a-copy\n",
      "  after removing the cwd from sys.path.\n"
     ]
    },
    {
     "data": {
      "image/png": "[encoded data removed]",
      "text/plain": [
       "<Figure size 432x288 with 1 Axes>"
      ]
     },
     "metadata": {
      "needs_background": "light"
     },
     "output_type": "display_data"
    }
   ],
   "source": [
    "avocados_2016 = avocados[avocados['year']==2016].copy()\n",
    "avocados_2016['size'][10:16] = np.NaN\n",
    "avocados_2016['avg_price'][20:25] = np.NaN\n",
    "avocados_2016['nb_sold'][30:60] = np.NaN\n",
    "\n",
    "# avocados_2016 a her bir gozlem degerleri icin  eksik deger sorgulamasi yapip yazdiriniz\n",
    "print(avocados_2016.isna())\n",
    "\n",
    "# avocados_2016 a her bir degisken icin eksik deger sorgulamasi yapip yazdiriniz\n",
    "print(avocados_2016.isna().any())\n",
    "\n",
    "# eksik gozlemleri degiskenler bazindaki sayilarin toplami uzerinde bar graf  olusturunuz\n",
    "avocados_2016.isna().sum().plot(kind='bar')\n",
    "\n",
    "# graf i yazdiriniz\n",
    "plt.show()"
   ]
  },
  {
   "cell_type": "markdown",
   "metadata": {},
   "source": [
    "#### 25. .dropna()"
   ]
  },
  {
   "cell_type": "code",
   "execution_count": 32,
   "metadata": {},
   "outputs": [
    {
     "name": "stdout",
     "output_type": "stream",
     "text": [
      "date         False\n",
      "type         False\n",
      "year         False\n",
      "avg_price    False\n",
      "size         False\n",
      "nb_sold      False\n",
      "dtype: bool\n"
     ]
    }
   ],
   "source": [
    "# .dropna()  ile eksik degerli gozlemleri atiniz\n",
    "avocados_complete = avocados_2016.dropna()\n",
    "\n",
    "# degisken bazinda eksik gozlem sorgusu yapiniz\n",
    "print(avocados_complete.isna().any())"
   ]
  },
  {
   "cell_type": "markdown",
   "metadata": {},
   "source": [
    "#### 26. eksik gozlemli hali vs eksik gozlemi olmayan df nin histogram degisimi "
   ]
  },
  {
   "cell_type": "code",
   "execution_count": 33,
   "metadata": {},
   "outputs": [
    {
     "data": {
      "image/png": "[encoded data removed]",
      "text/plain": [
       "<Figure size 432x288 with 2 Axes>"
      ]
     },
     "metadata": {
      "needs_background": "light"
     },
     "output_type": "display_data"
    }
   ],
   "source": [
    "#  eksik veriye sahip degiskenler\n",
    "cols_with_missing = [\"avg_price\", \"nb_sold\"]   # size  kategorik turde\n",
    "\n",
    "# bu listeye gore filtreleyiniz,  ve histogram grafigi ile dagilimi gorelim\n",
    "avocados_2016[cols_with_missing].hist()\n",
    "\n",
    "# graf show\n",
    "plt.show()"
   ]
  },
  {
   "cell_type": "code",
   "execution_count": 34,
   "metadata": {},
   "outputs": [
    {
     "data": {
      "image/png": "[encoded data removed]",
      "text/plain": [
       "<Figure size 432x288 with 2 Axes>"
      ]
     },
     "metadata": {
      "needs_background": "light"
     },
     "output_type": "display_data"
    }
   ],
   "source": [
    "# eksik degerleri 0 ile doldurunuz\n",
    "avocados_filled = avocados_2016.fillna(0)\n",
    "\n",
    "# doldurulmus halinin dagilimi histogram ile gorelim\n",
    "avocados_filled[cols_with_missing].hist()\n",
    "\n",
    "# Show  graf\n",
    "plt.show()"
   ]
  },
  {
   "cell_type": "markdown",
   "metadata": {},
   "source": [
    "## DataFrame i csv dosyasi olarak kaydetme "
   ]
  },
  {
   "cell_type": "raw",
   "metadata": {},
   "source": [
    "df.to_csv('csv_name.csv')"
   ]
  },
  {
   "cell_type": "code",
   "execution_count": 35,
   "metadata": {},
   "outputs": [],
   "source": [
    "avocados_filled.to_csv(\"avocados_filled.csv\")"
   ]
  },
  {
   "cell_type": "markdown",
   "metadata": {},
   "source": [
    " "
   ]
  }
 ],
 "metadata": {
  "kernelspec": {
   "display_name": "Python 3",
   "language": "python",
   "name": "python3"
  },
  "language_info": {
   "codemirror_mode": {
    "name": "ipython",
    "version": 3
   },
   "file_extension": ".py",
   "mimetype": "text/x-python",
   "name": "python",
   "nbconvert_exporter": "python",
   "pygments_lexer": "ipython3",
   "version": "3.7.4"
  },
  "toc-autonumbering": false,
  "toc-showmarkdowntxt": true
 },
 "nbformat": 4,
 "nbformat_minor": 4
}
