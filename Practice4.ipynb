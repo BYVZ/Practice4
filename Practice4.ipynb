{
 "cells": [
  {
   "cell_type": "markdown",
   "metadata": {
    "toc-hr-collapsed": false
   },
   "source": [
    "# Pandas ile veri manipulasyonu"
   ]
  },
  {
   "cell_type": "markdown",
   "metadata": {
    "toc-hr-collapsed": false
   },
   "source": [
    "## Pandas giris:  Dataframelerde temel manipulasyonlar: siralama, secme/filtreleme ve yeni kolon ekleme"
   ]
  },
  {
   "cell_type": "code",
   "execution_count": null,
   "metadata": {},
   "outputs": [],
   "source": [
    "import pandas as pd\n",
    "satislar = pd.read_pickle(\"walmart_sales.pkl\")\n",
    "satislar.head()"
   ]
  },
  {
   "cell_type": "markdown",
   "metadata": {},
   "source": [
    "#### 1. min, max, mean, and median numpy istatistik fonksiyonlarini aggregate etmek: .agg([ _ , _ ,_ ])"
   ]
  },
  {
   "cell_type": "code",
   "execution_count": null,
   "metadata": {},
   "outputs": [],
   "source": [
    "import numpy as np\n",
    "\n",
    "# her bir magaza turune gore, haftalik satislarin śu istatistiklerini aliniz:  min, max, mean, and median\n",
    "satislar_istatistikler = satislar.groupby('type')['weekly_sales'].agg([np.min,       ])\n",
    "\n",
    "# Print satislar_istatistikler\n",
    "print(satislar_istatistikler)\n",
    "\n",
    "# her bir magaza turune gore, unemployment ve fuel_price_usd_per_l degiskenlerine ait \n",
    "# śu istatistiklerini aliniz:  min, max, mean, and median\n",
    "unemp_fuel_istatistikler = satislar.groupby('type')['unemployment','fuel_price_usd_per_l'].agg([      ,np.median])\n",
    "\n",
    "# Print unemp_fuel_istatistikler\n",
    "print(unemp_fuel_istatistikler)"
   ]
  },
  {
   "cell_type": "markdown",
   "metadata": {},
   "source": [
    "#### 2. .pivot_table(values='column1', index='column2')"
   ]
  },
  {
   "cell_type": "code",
   "execution_count": null,
   "metadata": {},
   "outputs": [],
   "source": [
    "# Pivot tablo olusturunuz:  herbir magaza turune gore haftalik satis ortalamasini aliniz\n",
    "tipe_gore_ort_satislar = satislar.pivot_table(values=      , index=     )\n",
    "\n",
    "# Print mean_sales_by_type\n",
    "print(tipe_gore_ort_satislar)"
   ]
  },
  {
   "cell_type": "markdown",
   "metadata": {},
   "source": [
    "#### 3. .pivot_table(values='column1', index='column2', aggfunc=[np.mean, np.median])"
   ]
  },
  {
   "cell_type": "code",
   "execution_count": null,
   "metadata": {},
   "outputs": [],
   "source": [
    "# Yukaridaki kodu editleyip  np.mean ve np.median degerleri tabloda gosterilsin\n",
    "tipe_gore_satislarin_ort_ve_median = satislar.pivot_table(values=    ,index=     , aggfunc=[    ,    ])\n",
    "\n",
    "# Print mean_med_sales_by_type\n",
    "print(tipe_gore_satislarin_ort_ve_median)"
   ]
  },
  {
   "cell_type": "markdown",
   "metadata": {},
   "source": [
    "#### 4. .pivot_table(values='column1', index='column2',  columns='column3')"
   ]
  },
  {
   "cell_type": "code",
   "execution_count": null,
   "metadata": {},
   "outputs": [],
   "source": [
    "# Yukaridaki kodu editleyip, columns olarak 'is_holiday' degiskenlerini yaziniz \n",
    "tip_ve_tatile_gore_satislar = satislar.pivot_table(values=     , index=      , columns=       )\n",
    "\n",
    "# Print   tip_ve_tatile_gore_satislar\n",
    "print(tip_ve_tatile_gore_satislar)"
   ]
  },
  {
   "cell_type": "markdown",
   "metadata": {
    "toc-hr-collapsed": false
   },
   "source": [
    "#### 5. .pivot_table(values='column1', index='column2',  columns='column3', fill_value=0)"
   ]
  },
  {
   "cell_type": "code",
   "execution_count": null,
   "metadata": {},
   "outputs": [],
   "source": [
    "# satislar uzerinde .pivot_table() uygulayiniz, tablo degerleri: haftalik satis ortalamasi, columns: magaza tipi,\n",
    "# index: departman ve bos degerler: 0 olacak sekilde yaziniz\n",
    "print(satislar.pivot_table(values=     , index=    , columns=    , fill_value=  )[25:40])"
   ]
  },
  {
   "cell_type": "markdown",
   "metadata": {},
   "source": [
    "#### 6. .pivot_table(values='column1', index='column2',  columns='column3', fill_value=0, margins=True )"
   ]
  },
  {
   "cell_type": "code",
   "execution_count": null,
   "metadata": {},
   "outputs": [],
   "source": [
    "# satislar uzerinde .pivot_table() uygulayiniz, tablo degerleri: haftalik satis ortalamasi, columns: magaza tipi,\n",
    "# index: departman ve bos degerler: 0 olacak sekilde, ve kolon ve satir toplamlari ile birlikte yaziniz\n",
    "print(satislar.pivot_table(values='     ', index='    ', columns='    ', fill_value= , margins=    ))"
   ]
  },
  {
   "cell_type": "markdown",
   "metadata": {},
   "source": [
    "## Dataframe indeksleri"
   ]
  },
  {
   "cell_type": "code",
   "execution_count": null,
   "metadata": {},
   "outputs": [],
   "source": [
    "temperatures = pd.read_csv(\"temperature.csv\")\n",
    "temperatures = temperatures[['month','day','year','City','Country','AverageTemperatureFahr']]\n",
    "print(temperatures)"
   ]
  },
  {
   "cell_type": "markdown",
   "metadata": {},
   "source": [
    "#### 7. .set_index('column')"
   ]
  },
  {
   "cell_type": "code",
   "execution_count": null,
   "metadata": {},
   "outputs": [],
   "source": [
    "#  City  degiskenini index yapiniz\n",
    "temperatures_ind = temperatures.set_index('    ')\n",
    "\n",
    "# print  temperatures_ind\n",
    "print(temperatures_ind)"
   ]
  },
  {
   "cell_type": "markdown",
   "metadata": {},
   "source": [
    "#### 8. .reset_index()"
   ]
  },
  {
   "cell_type": "code",
   "execution_count": null,
   "metadata": {},
   "outputs": [],
   "source": [
    "# indexi resetleyiniz, fakat index bir degisken olarak kalsin\n",
    "print(temperatures_ind.reset_index())    # islem kalici degil"
   ]
  },
  {
   "cell_type": "markdown",
   "metadata": {},
   "source": [
    "#### 9. .reset_index(drop=True)"
   ]
  },
  {
   "cell_type": "code",
   "execution_count": null,
   "metadata": {},
   "outputs": [],
   "source": [
    "# indexi resetleyiniz,  index silinsin\n",
    "print(temperatures_ind.reset_index(drop=     ))    # islem kalici degil"
   ]
  },
  {
   "cell_type": "markdown",
   "metadata": {},
   "source": [
    "#### 10. .isin(ornek_liste)"
   ]
  },
  {
   "cell_type": "code",
   "execution_count": null,
   "metadata": {},
   "outputs": [],
   "source": [
    "cities = ['Auckland','Wroclaw']\n",
    "\n",
    "# temperatures cities listesindekki isimlere gore filtreleyiniz\n",
    "print(temperatures[temperatures['City'].isin(     )])\n",
    "\n",
    "# ayni islemi .loc[] ile yapiniz\n",
    "print(temperatures_ind.loc[     ])    \n",
    "# aranan kelime indekste bulunmali!   7 ve 10u pespese calistiriniz, ardindan 8 ve 10u calistiriniz"
   ]
  },
  {
   "cell_type": "markdown",
   "metadata": {},
   "source": [
    "#### 11. Multiindex: .set_index(['var1','var2']"
   ]
  },
  {
   "cell_type": "code",
   "execution_count": null,
   "metadata": {},
   "outputs": [],
   "source": [
    "#  City ve Country degiskenlerini beraber index yapiniz (cift indeks)\n",
    "temperatures_ind = temperatures.set_index(['     ','  '])\n",
    "\n",
    "# ornek liste\n",
    "rows_to_keep = [ ('Brazil','Rio De Janerio'),('Pakistan','Lahore') ]\n",
    "\n",
    "# listeye gore seciniz\n",
    "print(temperatures_ind.loc[     ])"
   ]
  },
  {
   "cell_type": "markdown",
   "metadata": {},
   "source": [
    "#### 12. .sort_index()"
   ]
  },
  {
   "cell_type": "code",
   "execution_count": null,
   "metadata": {},
   "outputs": [],
   "source": [
    "# indekse gore siralayiniz\n",
    "print(temperatures_ind      )"
   ]
  },
  {
   "cell_type": "markdown",
   "metadata": {},
   "source": [
    "#### 13. .sort_index(level='example_idx')"
   ]
  },
  {
   "cell_type": "code",
   "execution_count": null,
   "metadata": {},
   "outputs": [],
   "source": [
    "# cift indekli temperatures_ind i City indeksine gore siralayiniz\n",
    "print(temperatures_ind.sort_index(level='     '))"
   ]
  },
  {
   "cell_type": "markdown",
   "metadata": {},
   "source": [
    "#### 14. .sort_index(level=['idx1','idx2'], ascending=[True,False])"
   ]
  },
  {
   "cell_type": "code",
   "execution_count": null,
   "metadata": {},
   "outputs": [],
   "source": [
    "# cift indekli temperatures_ind i sirasiyla Country ve City indekslerine gore \n",
    "# sirasiyla kucukten buyuge ve buyukten kucuge siralayiniz\n",
    "print(temperatures_ind.sort_index(level=['     ','    '], ascending=[    ,    ]))"
   ]
  },
  {
   "cell_type": "markdown",
   "metadata": {},
   "source": [
    "#### 15. cift indekste secme1: .loc[['ulke1','ulke2'],:]  "
   ]
  },
  {
   "cell_type": "code",
   "execution_count": null,
   "metadata": {},
   "outputs": [],
   "source": [
    "#  temperatures_ind i indekse gore siralayiniz\n",
    "temperatures_srt = temperatures_ind.sort_index()\n",
    "\n",
    "# Brazil ve France  i seciniz\n",
    "print(temperatures_srt.loc[['    ','    '],:])"
   ]
  },
  {
   "cell_type": "markdown",
   "metadata": {},
   "source": [
    "#### 16. cift indekste secme2: .loc[[('ulke1','ulke2'),('sehir1','sehir2')],:]"
   ]
  },
  {
   "cell_type": "code",
   "execution_count": null,
   "metadata": {},
   "outputs": [],
   "source": [
    "# Bu sekilde secme bos doner\n",
    "print(temperatures_srt.loc[['Brasília','Paris'],:]) "
   ]
  },
  {
   "cell_type": "code",
   "execution_count": null,
   "metadata": {},
   "outputs": [],
   "source": [
    "# Yukaridaki sehir secimini dogru kod ile yapiniz  Brazil, France, Brasília, Paris\n",
    "print(temperatures_srt.loc[[('    ','    '),('    ','    ')],:])    "
   ]
  },
  {
   "cell_type": "markdown",
   "metadata": {},
   "source": [
    "#### 17. df[ (df[\"var\"] >= 5) & (df[\"var\"] < 10) ]"
   ]
  },
  {
   "cell_type": "code",
   "execution_count": null,
   "metadata": {},
   "outputs": [],
   "source": [
    "# year degiskeni uzerinde islem yaparak 2010 den 2011 e kadar olan gozlemleri yazdiriniz\n",
    "print(temperatures[(temperatures[\"year\"] >=     ) & (temperatures[\"year\"] <     )])"
   ]
  },
  {
   "cell_type": "markdown",
   "metadata": {},
   "source": [
    "#### 18. df.pivot_table(\"var\", index=['var1','var2'], columns=\"var3\")"
   ]
  },
  {
   "cell_type": "code",
   "execution_count": null,
   "metadata": {},
   "outputs": [],
   "source": [
    "# pivot_table fonk ile sicaklik ortalamalarini (AverageTemperatureFahr) yazdiriniz:  index olarak  country ve city   column olarak  year aliniz \n",
    "temp_by_country_city_vs_year = temperatures.pivot_table(\"      \", index=['    ','    '], columns=\"year\").iloc[:,:5]\n",
    "\n",
    "# ilk 5 kolonu secerek sonuc:\n",
    "print(temp_by_country_city_vs_year)"
   ]
  },
  {
   "cell_type": "markdown",
   "metadata": {},
   "source": [
    "#### 19. "
   ]
  },
  {
   "cell_type": "code",
   "execution_count": null,
   "metadata": {},
   "outputs": [],
   "source": [
    "# cift indeksli olan bir ustteki dataframe uzerinde France ten Japan a kadar yazdiriniz\n",
    "print(temp_by_country_city_vs_year.loc['    ':'    '])"
   ]
  },
  {
   "cell_type": "code",
   "execution_count": null,
   "metadata": {},
   "outputs": [],
   "source": [
    "# cift indeksli olan bir ustteki dataframe uzerinde  France, Paris   ten   New Zealand, Hamilton  e kadar yazdiriniz\n",
    "print(temp_by_country_city_vs_year.loc[('    ','    '):('     ','     ')])"
   ]
  },
  {
   "cell_type": "code",
   "execution_count": null,
   "metadata": {},
   "outputs": [],
   "source": [
    "# ustteki hucredeki islemi ve 1744 ile 1750 yillari arasini seciniz\n",
    "print(temp_by_country_city_vs_year.loc[('    ','    '):('     ','     '),    :    ])"
   ]
  },
  {
   "cell_type": "markdown",
   "metadata": {},
   "source": [
    "## DataFrameler uzerinde gorsellestirme ve bazi islemler"
   ]
  },
  {
   "cell_type": "code",
   "execution_count": null,
   "metadata": {},
   "outputs": [],
   "source": [
    "avocados = pd.read_pickle(\"avoplotto.pkl\")\n",
    "avocados.head()"
   ]
  },
  {
   "cell_type": "markdown",
   "metadata": {},
   "source": [
    "#### 20. .plot(kind='bar')"
   ]
  },
  {
   "cell_type": "code",
   "execution_count": null,
   "metadata": {},
   "outputs": [],
   "source": [
    "#  matplotlib.pyplot i plt diye  import ediniz  \n",
    "import matplotlib.pyplot as plt\n",
    "\n",
    "# avocados dfsinin ilk gozlemlerine bakalim\n",
    "print(avocados.head())\n",
    "\n",
    "#  \"size\"  degiskenine gore guruplayip  her gurup icin nb_sold degiskeninin toplamini kaydediniz (kac tane satildigi): nb_sold_by_size\n",
    "nb_sold_by_size = avocados.groupby('    ')['     '].sum()\n",
    "\n",
    "# nb_sold_by_size  uzerinde bar turu grafik olusturunuz\n",
    "nb_sold_by_size.plot(kind='    ')\n",
    "\n",
    "# graf i gorelim\n",
    "plt.show()"
   ]
  },
  {
   "cell_type": "markdown",
   "metadata": {},
   "source": [
    "#### 21. .plot(kind='line', x='var1', y='var2')"
   ]
  },
  {
   "cell_type": "code",
   "execution_count": null,
   "metadata": {},
   "outputs": [],
   "source": [
    "# date e gore guruplayip her gurup icin nb_sold degiskenin toplamini kaydediniz:  nb_sold_by_date\n",
    "nb_sold_by_date = avocados.groupby('    ')['    '].sum()\n",
    "\n",
    "# nb_sold_by_date  uzerinde line grafigi olusturunuz, x ekseni date, y ekseni nb_sold seciniz\n",
    "nb_sold_by_date.plot(kind='    ', x='    ', y='    ')\n",
    "\n",
    "# graf i gorelim\n",
    "plt.show()"
   ]
  },
  {
   "cell_type": "markdown",
   "metadata": {},
   "source": [
    "#### 22. .plot(kind='scatter', x='var1', y='var2', title='Baslik...')"
   ]
  },
  {
   "cell_type": "code",
   "execution_count": null,
   "metadata": {},
   "outputs": [],
   "source": [
    "# avocados uzerinde scatter graf uygulayiniz, x ekseni icin nb_sold,  y ekseni icin avg_price i seciniz \n",
    "# bir baslik atiniz\n",
    "avocados.plot(kind='     ', x='     ', y='     ', \n",
    "            title='     ....       ')\n",
    "\n",
    "# graf i gosteriniz\n",
    "plt.show()"
   ]
  },
  {
   "cell_type": "markdown",
   "metadata": {},
   "source": [
    "#### 23.a  df1.hist(); df2.hist(): plt.legend(['lgnd1','lgnd2']); plt.show()"
   ]
  },
  {
   "cell_type": "code",
   "execution_count": null,
   "metadata": {},
   "outputs": [],
   "source": [
    "# tipi conventional olan gozlemleri filtreleyiniz,  avg_price  degiskeni uzerinde Histogram graf olusturunuz\n",
    "avocados[avocados['type']=='conventional']['      '].hist()\n",
    "\n",
    "# ayni grafi tipi organic olanlar icin de olusturunuz\n",
    "avocados[avocados['    ']=='      ']['      '].hist()\n",
    "\n",
    "#  legend  ekleyiniz\n",
    "plt.legend(['conventional','organic'])\n",
    "\n",
    "# graf i gosteriniz\n",
    "plt.show()"
   ]
  },
  {
   "cell_type": "markdown",
   "metadata": {
    "toc-hr-collapsed": false
   },
   "source": [
    "#### 23.b alpha= ve bins="
   ]
  },
  {
   "cell_type": "code",
   "execution_count": null,
   "metadata": {},
   "outputs": [],
   "source": [
    "# yukarindaki her iki grafige 0.5 seffaflik ve 20 bins ekleyiniz\n",
    "avocados[avocados['type']=='conventional']['      '].hist(          )\n",
    "avocados[avocados['    ']=='       ']['      '].hist(           )\n",
    "\n",
    "plt.legend(['conventional','organic'])\n",
    "\n",
    "plt.show()"
   ]
  },
  {
   "cell_type": "markdown",
   "metadata": {},
   "source": [
    "#### 24. Missing values (NaN: Not Any Number) isna(), isna().any() ve .plot(kind='bar')"
   ]
  },
  {
   "cell_type": "code",
   "execution_count": null,
   "metadata": {},
   "outputs": [],
   "source": [
    "avocados_2016 = avocados[avocados['year']==2016].copy()\n",
    "avocados_2016['size'][10:16] = np.NaN\n",
    "avocados_2016['avg_price'][20:25] = np.NaN\n",
    "avocados_2016['nb_sold'][30:60] = np.NaN\n",
    "\n",
    "# avocados_2016 a her bir gozlem degerleri icin  eksik deger sorgulamasi yapip yazdiriniz\n",
    "print(avocados_2016     )\n",
    "\n",
    "# avocados_2016 a her bir degisken icin eksik deger sorgulamasi yapip yazdiriniz\n",
    "print(avocados_2016           )\n",
    "\n",
    "# eksik gozlemleri degiskenler bazindaki sayilari uzerinde bar graf  olusturunuz\n",
    "avocados_2016.isna().sum().plot(kind='    ')\n",
    "\n",
    "# graf i yazdiriniz\n",
    "plt.show()"
   ]
  },
  {
   "cell_type": "markdown",
   "metadata": {},
   "source": [
    "#### 25. .dropna()"
   ]
  },
  {
   "cell_type": "code",
   "execution_count": null,
   "metadata": {},
   "outputs": [],
   "source": [
    "# .dropna()  ile eksik degerli gozlemleri atiniz\n",
    "avocados_complete = avocados_2016.      ()\n",
    "\n",
    "# degisken bazinda eksik gozlem sorgusu yapiniz\n",
    "print(avocados_complete.isna().    ()  )"
   ]
  },
  {
   "cell_type": "markdown",
   "metadata": {},
   "source": [
    "#### 26. eksik gozlemli hali vs eksik gozlemi olmayan df nin histogram degisimi "
   ]
  },
  {
   "cell_type": "code",
   "execution_count": null,
   "metadata": {},
   "outputs": [],
   "source": [
    "#  eksik veriye sahip degiskenler\n",
    "cols_with_missing = [\"avg_price\", \"nb_sold\"]   # size  kategorik turde\n",
    "\n",
    "# bu listeye gore filtreleyiniz,  ve histogram grafigi ile dagilimi gorelim\n",
    "avocados_2016[     ].    ()\n",
    "\n",
    "# graf show\n",
    "plt.show()"
   ]
  },
  {
   "cell_type": "code",
   "execution_count": null,
   "metadata": {},
   "outputs": [],
   "source": [
    "# eksik degerleri 0 ile doldurunuz\n",
    "avocados_filled = avocados_2016.fillna(0)\n",
    "\n",
    "# doldurulmus halinin dagilimi histogram ile gorelim\n",
    "avocados_filled[     ].     ()\n",
    "\n",
    "# Show  graf\n",
    "plt.show()"
   ]
  },
  {
   "cell_type": "markdown",
   "metadata": {},
   "source": [
    "## DataFrame i csv dosyasi olarak kaydetme "
   ]
  },
  {
   "cell_type": "markdown",
   "metadata": {},
   "source": [
    "#### 27. df.to_csv('csv_name.csv')"
   ]
  },
  {
   "cell_type": "code",
   "execution_count": null,
   "metadata": {},
   "outputs": [],
   "source": [
    "avocados_filled.to_csv(\"avocados_filled.csv\")"
   ]
  },
  {
   "cell_type": "markdown",
   "metadata": {},
   "source": [
    " "
   ]
  }
 ],
 "metadata": {
  "kernelspec": {
   "display_name": "Python 3",
   "language": "python",
   "name": "python3"
  },
  "language_info": {
   "codemirror_mode": {
    "name": "ipython",
    "version": 3
   },
   "file_extension": ".py",
   "mimetype": "text/x-python",
   "name": "python",
   "nbconvert_exporter": "python",
   "pygments_lexer": "ipython3",
   "version": "3.7.4"
  },
  "toc-autonumbering": false,
  "toc-showmarkdowntxt": true
 },
 "nbformat": 4,
 "nbformat_minor": 4
}
